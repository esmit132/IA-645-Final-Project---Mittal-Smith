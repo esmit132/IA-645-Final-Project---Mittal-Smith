{
 "cells": [
  {
   "cell_type": "code",
   "execution_count": 1,
   "metadata": {},
   "outputs": [
    {
     "data": {
      "text/html": [
       "<div>\n",
       "<style scoped>\n",
       "    .dataframe tbody tr th:only-of-type {\n",
       "        vertical-align: middle;\n",
       "    }\n",
       "\n",
       "    .dataframe tbody tr th {\n",
       "        vertical-align: top;\n",
       "    }\n",
       "\n",
       "    .dataframe thead th {\n",
       "        text-align: right;\n",
       "    }\n",
       "</style>\n",
       "<table border=\"1\" class=\"dataframe\">\n",
       "  <thead>\n",
       "    <tr style=\"text-align: right;\">\n",
       "      <th></th>\n",
       "      <th>Index</th>\n",
       "      <th>binary_value</th>\n",
       "      <th>airline_sentiment</th>\n",
       "      <th>sentiment_score</th>\n",
       "      <th>airline_sentiment_confidence</th>\n",
       "      <th>text</th>\n",
       "      <th>tokens2</th>\n",
       "      <th>Column12</th>\n",
       "    </tr>\n",
       "  </thead>\n",
       "  <tbody>\n",
       "    <tr>\n",
       "      <td>0</td>\n",
       "      <td>n0</td>\n",
       "      <td>1</td>\n",
       "      <td>neutral</td>\n",
       "      <td>3</td>\n",
       "      <td>1.0000</td>\n",
       "      <td>what  said</td>\n",
       "      <td>[\\'what\\', \\'said\\']</td>\n",
       "      <td>NaN</td>\n",
       "    </tr>\n",
       "    <tr>\n",
       "      <td>1</td>\n",
       "      <td>n1</td>\n",
       "      <td>1</td>\n",
       "      <td>positive</td>\n",
       "      <td>5</td>\n",
       "      <td>0.3486</td>\n",
       "      <td>plus youve added commercials to the experienc...</td>\n",
       "      <td>[\\'plus\\', \\'youve\\', \\'added\\', \\'commercials...</td>\n",
       "      <td>NaN</td>\n",
       "    </tr>\n",
       "    <tr>\n",
       "      <td>2</td>\n",
       "      <td>n2</td>\n",
       "      <td>1</td>\n",
       "      <td>neutral</td>\n",
       "      <td>3</td>\n",
       "      <td>0.6837</td>\n",
       "      <td>i didnt today    must mean i need to take ano...</td>\n",
       "      <td>[\\'i\\', \\'didnt\\', \\'today\\', \\'must\\', \\'mean...</td>\n",
       "      <td>NaN</td>\n",
       "    </tr>\n",
       "    <tr>\n",
       "      <td>3</td>\n",
       "      <td>n3</td>\n",
       "      <td>0</td>\n",
       "      <td>negative</td>\n",
       "      <td>1</td>\n",
       "      <td>1.0000</td>\n",
       "      <td>its really aggressive to blast obnoxious \"ent...</td>\n",
       "      <td>[\\'its\\', \\'really\\', \\'aggressive\\', \\'to\\', ...</td>\n",
       "      <td>NaN</td>\n",
       "    </tr>\n",
       "    <tr>\n",
       "      <td>4</td>\n",
       "      <td>n4</td>\n",
       "      <td>0</td>\n",
       "      <td>negative</td>\n",
       "      <td>1</td>\n",
       "      <td>1.0000</td>\n",
       "      <td>and its a really big bad thing about it</td>\n",
       "      <td>[\\'and\\', \\'its\\', \\'a\\', \\'really\\', \\'big\\',...</td>\n",
       "      <td>NaN</td>\n",
       "    </tr>\n",
       "    <tr>\n",
       "      <td>...</td>\n",
       "      <td>...</td>\n",
       "      <td>...</td>\n",
       "      <td>...</td>\n",
       "      <td>...</td>\n",
       "      <td>...</td>\n",
       "      <td>...</td>\n",
       "      <td>...</td>\n",
       "      <td>...</td>\n",
       "    </tr>\n",
       "    <tr>\n",
       "      <td>14635</td>\n",
       "      <td>n14635</td>\n",
       "      <td>1</td>\n",
       "      <td>positive</td>\n",
       "      <td>5</td>\n",
       "      <td>0.3487</td>\n",
       "      <td>thank you we got on a different flight to chi...</td>\n",
       "      <td>[\\'thank\\', \\'you\\', \\'we\\', \\'got\\', \\'on\\', ...</td>\n",
       "      <td>NaN</td>\n",
       "    </tr>\n",
       "    <tr>\n",
       "      <td>14636</td>\n",
       "      <td>n14636</td>\n",
       "      <td>0</td>\n",
       "      <td>negative</td>\n",
       "      <td>1</td>\n",
       "      <td>1.0000</td>\n",
       "      <td>leaving over 20 minutes late flight  no warni...</td>\n",
       "      <td>[\\'leaving\\', \\'over\\', \\'20\\', \\'minutes\\', \\...</td>\n",
       "      <td>NaN</td>\n",
       "    </tr>\n",
       "    <tr>\n",
       "      <td>14637</td>\n",
       "      <td>n14637</td>\n",
       "      <td>1</td>\n",
       "      <td>neutral</td>\n",
       "      <td>3</td>\n",
       "      <td>1.0000</td>\n",
       "      <td>please bring american airlines to  blackberry10</td>\n",
       "      <td>[\\'please\\', \\'bring\\', \\'american\\', \\'airlin...</td>\n",
       "      <td>NaN</td>\n",
       "    </tr>\n",
       "    <tr>\n",
       "      <td>14638</td>\n",
       "      <td>n14638</td>\n",
       "      <td>0</td>\n",
       "      <td>negative</td>\n",
       "      <td>1</td>\n",
       "      <td>1.0000</td>\n",
       "      <td>you have my money, you change my flight, and ...</td>\n",
       "      <td>[\\'you\\', \\'have\\', \\'my\\', \\'money\\', \\'you\\'...</td>\n",
       "      <td>NaN</td>\n",
       "    </tr>\n",
       "    <tr>\n",
       "      <td>14639</td>\n",
       "      <td>n14639</td>\n",
       "      <td>1</td>\n",
       "      <td>neutral</td>\n",
       "      <td>3</td>\n",
       "      <td>0.6771</td>\n",
       "      <td>we have 8 ppl so we need 2 know how many seat...</td>\n",
       "      <td>[\\'we\\', \\'have\\', \\'8\\', \\'ppl\\', \\'so\\', \\'w...</td>\n",
       "      <td>NaN</td>\n",
       "    </tr>\n",
       "  </tbody>\n",
       "</table>\n",
       "<p>14640 rows × 8 columns</p>\n",
       "</div>"
      ],
      "text/plain": [
       "        Index  binary_value airline_sentiment  sentiment_score  \\\n",
       "0          n0             1           neutral                3   \n",
       "1          n1             1          positive                5   \n",
       "2          n2             1           neutral                3   \n",
       "3          n3             0          negative                1   \n",
       "4          n4             0          negative                1   \n",
       "...       ...           ...               ...              ...   \n",
       "14635  n14635             1          positive                5   \n",
       "14636  n14636             0          negative                1   \n",
       "14637  n14637             1           neutral                3   \n",
       "14638  n14638             0          negative                1   \n",
       "14639  n14639             1           neutral                3   \n",
       "\n",
       "       airline_sentiment_confidence  \\\n",
       "0                            1.0000   \n",
       "1                            0.3486   \n",
       "2                            0.6837   \n",
       "3                            1.0000   \n",
       "4                            1.0000   \n",
       "...                             ...   \n",
       "14635                        0.3487   \n",
       "14636                        1.0000   \n",
       "14637                        1.0000   \n",
       "14638                        1.0000   \n",
       "14639                        0.6771   \n",
       "\n",
       "                                                    text  \\\n",
       "0                                            what  said    \n",
       "1       plus youve added commercials to the experienc...   \n",
       "2       i didnt today    must mean i need to take ano...   \n",
       "3       its really aggressive to blast obnoxious \"ent...   \n",
       "4                and its a really big bad thing about it   \n",
       "...                                                  ...   \n",
       "14635   thank you we got on a different flight to chi...   \n",
       "14636   leaving over 20 minutes late flight  no warni...   \n",
       "14637    please bring american airlines to  blackberry10   \n",
       "14638   you have my money, you change my flight, and ...   \n",
       "14639   we have 8 ppl so we need 2 know how many seat...   \n",
       "\n",
       "                                                tokens2   Column12  \n",
       "0                                  [\\'what\\', \\'said\\']        NaN  \n",
       "1      [\\'plus\\', \\'youve\\', \\'added\\', \\'commercials...       NaN  \n",
       "2      [\\'i\\', \\'didnt\\', \\'today\\', \\'must\\', \\'mean...       NaN  \n",
       "3      [\\'its\\', \\'really\\', \\'aggressive\\', \\'to\\', ...       NaN  \n",
       "4      [\\'and\\', \\'its\\', \\'a\\', \\'really\\', \\'big\\',...       NaN  \n",
       "...                                                  ...       ...  \n",
       "14635  [\\'thank\\', \\'you\\', \\'we\\', \\'got\\', \\'on\\', ...       NaN  \n",
       "14636  [\\'leaving\\', \\'over\\', \\'20\\', \\'minutes\\', \\...       NaN  \n",
       "14637  [\\'please\\', \\'bring\\', \\'american\\', \\'airlin...       NaN  \n",
       "14638  [\\'you\\', \\'have\\', \\'my\\', \\'money\\', \\'you\\'...       NaN  \n",
       "14639  [\\'we\\', \\'have\\', \\'8\\', \\'ppl\\', \\'so\\', \\'w...       NaN  \n",
       "\n",
       "[14640 rows x 8 columns]"
      ]
     },
     "execution_count": 1,
     "metadata": {},
     "output_type": "execute_result"
    }
   ],
   "source": [
    "import pandas as pd\n",
    "import sklearn as skl\n",
    "import numpy as np\n",
    "import matplotlib.pyplot as plt\n",
    "import seaborn as sns\n",
    "# read in data\n",
    "clean_apple = pd.read_csv(\"C:/Users/Ethan/Desktop/IA 645 Project/clean_apple.csv\")\n",
    "clean_apple = clean_apple.drop([3804])\n",
    "#clean_apple\n",
    "\n",
    "clean_air = pd.read_csv(\"C:/Users/Ethan/Desktop/IA 645 Project/clean_air.csv\")\n",
    "clean_air"
   ]
  },
  {
   "cell_type": "code",
   "execution_count": null,
   "metadata": {},
   "outputs": [],
   "source": []
  },
  {
   "cell_type": "code",
   "execution_count": 2,
   "metadata": {},
   "outputs": [],
   "source": [
    "from sklearn.model_selection import train_test_split\n",
    "# split apple data into training and testing  \n",
    "y= np.asarray(clean_apple['binary_value']) # coerce to array to make worth with .fit\n",
    "x= clean_apple['text'].tolist() # coerce to type list to make work with .fit\n",
    "x_train,x_test,y_train,y_test=train_test_split(x,y,test_size=0.2,random_state=31)\n",
    "\n",
    "# get data from validation set to fit model to\n",
    "y_val = np.asarray(clean_air['binary_value'])\n",
    "x_val = clean_air['text'].tolist()\n"
   ]
  },
  {
   "cell_type": "code",
   "execution_count": 3,
   "metadata": {
    "scrolled": true
   },
   "outputs": [
    {
     "data": {
      "text/plain": [
       "3043"
      ]
     },
     "execution_count": 3,
     "metadata": {},
     "output_type": "execute_result"
    }
   ],
   "source": [
    "# verify that the splitting works\n",
    "len(y_test)\n",
    "len(y_train)\n",
    "\n",
    "len(x_test)\n",
    "len(x_train)"
   ]
  },
  {
   "cell_type": "code",
   "execution_count": 4,
   "metadata": {},
   "outputs": [],
   "source": [
    "### Model 1: Naive Bayes"
   ]
  },
  {
   "cell_type": "code",
   "execution_count": 5,
   "metadata": {},
   "outputs": [],
   "source": [
    "# create pipeline to make naive bayes model (model 1)\n",
    "# source: https://jakevdp.github.io/PythonDataScienceHandbook/05.05-naive-bayes.html\n",
    "\n",
    "from sklearn.feature_extraction.text import TfidfVectorizer\n",
    "from sklearn.naive_bayes import MultinomialNB\n",
    "from sklearn.pipeline import make_pipeline\n",
    "\n",
    "model1 = make_pipeline(TfidfVectorizer(), MultinomialNB())"
   ]
  },
  {
   "cell_type": "code",
   "execution_count": 6,
   "metadata": {},
   "outputs": [],
   "source": [
    "# naive bayes on apple test data\n",
    "\n",
    "model1.fit(x_train,y_train)\n",
    "labels = model1.predict(x_test)\n",
    "\n",
    "# naive bayes on validation data (airlines)\n",
    "\n",
    "labels_val = model1.predict(x_val)"
   ]
  },
  {
   "cell_type": "code",
   "execution_count": 7,
   "metadata": {},
   "outputs": [
    {
     "name": "stdout",
     "output_type": "stream",
     "text": [
      "              precision    recall  f1-score   support\n",
      "\n",
      "         0.0       0.90      0.56      0.69       257\n",
      "         1.0       0.81      0.97      0.88       504\n",
      "\n",
      "    accuracy                           0.83       761\n",
      "   macro avg       0.85      0.77      0.79       761\n",
      "weighted avg       0.84      0.83      0.82       761\n",
      "\n"
     ]
    },
    {
     "data": {
      "image/png": "[encoded data removed]",
      "text/plain": [
       "<Figure size 432x288 with 2 Axes>"
      ]
     },
     "metadata": {
      "needs_background": "light"
     },
     "output_type": "display_data"
    }
   ],
   "source": [
    "# get tools to report confusion_matrix and accuracy, recall, f1 \n",
    "\n",
    "from sklearn.metrics import confusion_matrix\n",
    "from sklearn.metrics import classification_report\n",
    "\n",
    "# test model performance on test data\n",
    "\n",
    "# get confusion matrix\n",
    "cm1 = confusion_matrix(y_test, labels)\n",
    "\n",
    "# print pretty heatmap\n",
    "ax1 = sns.heatmap(cm1/np.sum(cm1), annot=True, fmt='.2%',cmap='Blues',xticklabels=['negative','positive'],yticklabels=['negative','positive'])\n",
    "bottom, top = ax1.get_ylim()\n",
    "ax1.set_ylim(bottom + 0.5, top - 0.5)\n",
    "plt.xlabel('true label')\n",
    "plt.ylabel('predicted label')\n",
    "\n",
    "ax1\n",
    "\n",
    "# print accuracy, precision, and recall report\n",
    "print(classification_report(y_test,labels))\n",
    "\n"
   ]
  },
  {
   "cell_type": "code",
   "execution_count": 8,
   "metadata": {},
   "outputs": [
    {
     "name": "stdout",
     "output_type": "stream",
     "text": [
      "              precision    recall  f1-score   support\n",
      "\n",
      "           0       0.84      0.37      0.52      9178\n",
      "           1       0.45      0.88      0.60      5462\n",
      "\n",
      "    accuracy                           0.56     14640\n",
      "   macro avg       0.65      0.63      0.56     14640\n",
      "weighted avg       0.70      0.56      0.55     14640\n",
      "\n"
     ]
    },
    {
     "data": {
      "image/png": "[encoded data removed]",
      "text/plain": [
       "<Figure size 432x288 with 2 Axes>"
      ]
     },
     "metadata": {
      "needs_background": "light"
     },
     "output_type": "display_data"
    }
   ],
   "source": [
    "# test model performance on validation data\n",
    "\n",
    "# get confusion matrix\n",
    "cm2 = confusion_matrix(y_val,labels_val)\n",
    "\n",
    "# print pretty heatmap\n",
    "ax2 = sns.heatmap(cm2/np.sum(cm2), annot=True, fmt='.2%',cmap='Oranges',xticklabels=['negative','positive'],yticklabels=['negative','positive'])\n",
    "bottom, top = ax1.get_ylim()\n",
    "ax2.set_ylim(bottom + 0.5, top - 0.5)\n",
    "plt.xlabel('true label')\n",
    "plt.ylabel('predicted label')\n",
    "\n",
    "ax2\n",
    "\n",
    "# print accuracy, precision, and recall report\n",
    "print(classification_report(y_val,labels_val))\n",
    "\n",
    "# high recall for positives suggests that the model is decent at detecting positive tweets,\n",
    "\n",
    "# the model thinks that a ton (5708) of positive tweets are actually negative, which could cause an organization to seriously overrate its use of a cyberattack.\n",
    "# model has an issue with FALSE POSITIVES"
   ]
  },
  {
   "cell_type": "code",
   "execution_count": 9,
   "metadata": {},
   "outputs": [],
   "source": [
    "# switch roles of train/test and validation datasets\n",
    "\n",
    "# split apple data into training and testing  \n",
    "y2= np.asarray(clean_air['binary_value']) # coerce to array to make worth with .fit\n",
    "x2= clean_air['text'].tolist() # coerce to type list to make work with .fit\n",
    "x2_train,x2_test,y2_train,y2_test=train_test_split(x2,y2,test_size=0.2,random_state=31)\n",
    "\n",
    "# get data from validation set to fit model to\n",
    "y2_val = np.asarray(clean_apple['binary_value'])\n",
    "x2_val = clean_apple['text'].tolist()"
   ]
  },
  {
   "cell_type": "code",
   "execution_count": 10,
   "metadata": {
    "scrolled": true
   },
   "outputs": [],
   "source": [
    "# naive bayes on airline test data\n",
    "\n",
    "model1.fit(x2_train,y2_train)\n",
    "labels2 = model1.predict(x2_test)\n",
    "\n",
    "# naive bayes on validation data (apple)\n",
    "\n",
    "labels_val2 = model1.predict(x2_val)"
   ]
  },
  {
   "cell_type": "code",
   "execution_count": 11,
   "metadata": {},
   "outputs": [
    {
     "name": "stdout",
     "output_type": "stream",
     "text": [
      "              precision    recall  f1-score   support\n",
      "\n",
      "           0       0.72      0.99      0.83      1817\n",
      "           1       0.94      0.38      0.54      1111\n",
      "\n",
      "    accuracy                           0.75      2928\n",
      "   macro avg       0.83      0.68      0.68      2928\n",
      "weighted avg       0.80      0.75      0.72      2928\n",
      "\n"
     ]
    },
    {
     "data": {
      "image/png": "[encoded data removed]",
      "text/plain": [
       "<Figure size 432x288 with 2 Axes>"
      ]
     },
     "metadata": {
      "needs_background": "light"
     },
     "output_type": "display_data"
    }
   ],
   "source": [
    "# get confusion matrix\n",
    "cm3 = confusion_matrix(y2_test,labels2) # trained on airline, tested on airline\n",
    "\n",
    "# print pretty heatmap\n",
    "ax3 = sns.heatmap(cm3/np.sum(cm3), annot=True, fmt='.2%',cmap='Oranges',xticklabels=['negative','positive'],yticklabels=['negative','positive'])\n",
    "bottom, top = ax3.get_ylim()\n",
    "ax3.set_ylim(bottom + 0.5, top - 0.5)\n",
    "plt.xlabel('true label')\n",
    "plt.ylabel('predicted label')\n",
    "\n",
    "ax3\n",
    "\n",
    "# print accuracy, precision, and recall report\n",
    "print(classification_report(y2_test,labels2))"
   ]
  },
  {
   "cell_type": "code",
   "execution_count": 12,
   "metadata": {},
   "outputs": [
    {
     "name": "stdout",
     "output_type": "stream",
     "text": [
      "              precision    recall  f1-score   support\n",
      "\n",
      "         0.0       0.41      0.90      0.56      1219\n",
      "         1.0       0.89      0.39      0.54      2585\n",
      "\n",
      "    accuracy                           0.55      3804\n",
      "   macro avg       0.65      0.65      0.55      3804\n",
      "weighted avg       0.74      0.55      0.55      3804\n",
      "\n"
     ]
    },
    {
     "data": {
      "image/png": "[encoded data removed]",
      "text/plain": [
       "<Figure size 432x288 with 2 Axes>"
      ]
     },
     "metadata": {
      "needs_background": "light"
     },
     "output_type": "display_data"
    }
   ],
   "source": [
    "# get confusion matrix\n",
    "cm4 = confusion_matrix(y2_val,labels_val2) # trained on airline, tested on apple\n",
    "\n",
    "# print pretty heatmap\n",
    "ax4 = sns.heatmap(cm4/np.sum(cm4), annot=True, fmt='.2%',cmap='Blues',xticklabels=['negative','positive'],yticklabels=['negative','positive'])\n",
    "bottom, top = ax4.get_ylim()\n",
    "ax4.set_ylim(bottom + 0.5, top - 0.5)\n",
    "plt.xlabel('true label')\n",
    "plt.ylabel('predicted label')\n",
    "\n",
    "ax3\n",
    "\n",
    "# print accuracy, precision, and recall report\n",
    "print(classification_report(y2_val,labels_val2))\n",
    "\n",
    "# 55% accuracy, nearly identical. issue isn't lack of data but overfitting"
   ]
  },
  {
   "cell_type": "code",
   "execution_count": 13,
   "metadata": {},
   "outputs": [
    {
     "name": "stderr",
     "output_type": "stream",
     "text": [
      "C:\\Users\\Ethan\\Anaconda3\\lib\\site-packages\\sklearn\\model_selection\\_split.py:1978: FutureWarning: The default value of cv will change from 3 to 5 in version 0.22. Specify it explicitly to silence this warning.\n",
      "  warnings.warn(CV_WARNING, FutureWarning)\n",
      "C:\\Users\\Ethan\\Anaconda3\\lib\\site-packages\\sklearn\\linear_model\\logistic.py:947: ConvergenceWarning: lbfgs failed to converge. Increase the number of iterations.\n",
      "  \"of iterations.\", ConvergenceWarning)\n",
      "C:\\Users\\Ethan\\Anaconda3\\lib\\site-packages\\sklearn\\linear_model\\logistic.py:947: ConvergenceWarning: lbfgs failed to converge. Increase the number of iterations.\n",
      "  \"of iterations.\", ConvergenceWarning)\n",
      "C:\\Users\\Ethan\\Anaconda3\\lib\\site-packages\\sklearn\\linear_model\\logistic.py:947: ConvergenceWarning: lbfgs failed to converge. Increase the number of iterations.\n",
      "  \"of iterations.\", ConvergenceWarning)\n",
      "C:\\Users\\Ethan\\Anaconda3\\lib\\site-packages\\sklearn\\linear_model\\logistic.py:947: ConvergenceWarning: lbfgs failed to converge. Increase the number of iterations.\n",
      "  \"of iterations.\", ConvergenceWarning)\n",
      "C:\\Users\\Ethan\\Anaconda3\\lib\\site-packages\\sklearn\\linear_model\\logistic.py:947: ConvergenceWarning: lbfgs failed to converge. Increase the number of iterations.\n",
      "  \"of iterations.\", ConvergenceWarning)\n",
      "C:\\Users\\Ethan\\Anaconda3\\lib\\site-packages\\sklearn\\linear_model\\logistic.py:947: ConvergenceWarning: lbfgs failed to converge. Increase the number of iterations.\n",
      "  \"of iterations.\", ConvergenceWarning)\n",
      "C:\\Users\\Ethan\\Anaconda3\\lib\\site-packages\\sklearn\\linear_model\\logistic.py:947: ConvergenceWarning: lbfgs failed to converge. Increase the number of iterations.\n",
      "  \"of iterations.\", ConvergenceWarning)\n",
      "C:\\Users\\Ethan\\Anaconda3\\lib\\site-packages\\sklearn\\linear_model\\logistic.py:947: ConvergenceWarning: lbfgs failed to converge. Increase the number of iterations.\n",
      "  \"of iterations.\", ConvergenceWarning)\n",
      "C:\\Users\\Ethan\\Anaconda3\\lib\\site-packages\\sklearn\\linear_model\\logistic.py:947: ConvergenceWarning: lbfgs failed to converge. Increase the number of iterations.\n",
      "  \"of iterations.\", ConvergenceWarning)\n",
      "C:\\Users\\Ethan\\Anaconda3\\lib\\site-packages\\sklearn\\linear_model\\logistic.py:947: ConvergenceWarning: lbfgs failed to converge. Increase the number of iterations.\n",
      "  \"of iterations.\", ConvergenceWarning)\n"
     ]
    },
    {
     "name": "stdout",
     "output_type": "stream",
     "text": [
      "              precision    recall  f1-score   support\n",
      "\n",
      "         0.0       0.79      0.66      0.72       257\n",
      "         1.0       0.84      0.91      0.87       504\n",
      "\n",
      "    accuracy                           0.83       761\n",
      "   macro avg       0.82      0.79      0.80       761\n",
      "weighted avg       0.82      0.83      0.82       761\n",
      "\n"
     ]
    },
    {
     "name": "stderr",
     "output_type": "stream",
     "text": [
      "C:\\Users\\Ethan\\Anaconda3\\lib\\site-packages\\sklearn\\linear_model\\logistic.py:947: ConvergenceWarning: lbfgs failed to converge. Increase the number of iterations.\n",
      "  \"of iterations.\", ConvergenceWarning)\n"
     ]
    },
    {
     "data": {
      "image/png": "[encoded data removed]",
      "text/plain": [
       "<Figure size 432x288 with 2 Axes>"
      ]
     },
     "metadata": {
      "needs_background": "light"
     },
     "output_type": "display_data"
    }
   ],
   "source": [
    "## Model 2 Logistic Regression\n",
    "\n",
    "# test Model 2 on test dataset\n",
    "\n",
    "from sklearn.linear_model import LogisticRegressionCV\n",
    "\n",
    "model2 = make_pipeline(TfidfVectorizer(), LogisticRegressionCV())\n",
    "\n",
    "model2.fit(x_train, y_train)\n",
    "lreg_labels = model2.predict(x_test)\n",
    "\n",
    "# get confusion matrix\n",
    "cm5 = confusion_matrix(y_test,lreg_labels) # trained on apple, tested on apple\n",
    "\n",
    "# print pretty heatmap\n",
    "ax5 = sns.heatmap(cm5/np.sum(cm5), annot=True, fmt='.2%',cmap='Greens',xticklabels=['negative','positive'],yticklabels=['negative','positive'])\n",
    "bottom, top = ax4.get_ylim()\n",
    "ax5.set_ylim(bottom + 0.5, top - 0.5)\n",
    "plt.xlabel('true label')\n",
    "plt.ylabel('predicted label')\n",
    "\n",
    "print(classification_report(y_test,lreg_labels))\n",
    "# 83.3% accurate"
   ]
  },
  {
   "cell_type": "code",
   "execution_count": 14,
   "metadata": {},
   "outputs": [
    {
     "name": "stderr",
     "output_type": "stream",
     "text": [
      "C:\\Users\\Ethan\\Anaconda3\\lib\\site-packages\\sklearn\\model_selection\\_split.py:1978: FutureWarning: The default value of cv will change from 3 to 5 in version 0.22. Specify it explicitly to silence this warning.\n",
      "  warnings.warn(CV_WARNING, FutureWarning)\n",
      "C:\\Users\\Ethan\\Anaconda3\\lib\\site-packages\\sklearn\\linear_model\\logistic.py:947: ConvergenceWarning: lbfgs failed to converge. Increase the number of iterations.\n",
      "  \"of iterations.\", ConvergenceWarning)\n",
      "C:\\Users\\Ethan\\Anaconda3\\lib\\site-packages\\sklearn\\linear_model\\logistic.py:947: ConvergenceWarning: lbfgs failed to converge. Increase the number of iterations.\n",
      "  \"of iterations.\", ConvergenceWarning)\n",
      "C:\\Users\\Ethan\\Anaconda3\\lib\\site-packages\\sklearn\\linear_model\\logistic.py:947: ConvergenceWarning: lbfgs failed to converge. Increase the number of iterations.\n",
      "  \"of iterations.\", ConvergenceWarning)\n",
      "C:\\Users\\Ethan\\Anaconda3\\lib\\site-packages\\sklearn\\linear_model\\logistic.py:947: ConvergenceWarning: lbfgs failed to converge. Increase the number of iterations.\n",
      "  \"of iterations.\", ConvergenceWarning)\n",
      "C:\\Users\\Ethan\\Anaconda3\\lib\\site-packages\\sklearn\\linear_model\\logistic.py:947: ConvergenceWarning: lbfgs failed to converge. Increase the number of iterations.\n",
      "  \"of iterations.\", ConvergenceWarning)\n",
      "C:\\Users\\Ethan\\Anaconda3\\lib\\site-packages\\sklearn\\linear_model\\logistic.py:947: ConvergenceWarning: lbfgs failed to converge. Increase the number of iterations.\n",
      "  \"of iterations.\", ConvergenceWarning)\n",
      "C:\\Users\\Ethan\\Anaconda3\\lib\\site-packages\\sklearn\\linear_model\\logistic.py:947: ConvergenceWarning: lbfgs failed to converge. Increase the number of iterations.\n",
      "  \"of iterations.\", ConvergenceWarning)\n",
      "C:\\Users\\Ethan\\Anaconda3\\lib\\site-packages\\sklearn\\linear_model\\logistic.py:947: ConvergenceWarning: lbfgs failed to converge. Increase the number of iterations.\n",
      "  \"of iterations.\", ConvergenceWarning)\n",
      "C:\\Users\\Ethan\\Anaconda3\\lib\\site-packages\\sklearn\\linear_model\\logistic.py:947: ConvergenceWarning: lbfgs failed to converge. Increase the number of iterations.\n",
      "  \"of iterations.\", ConvergenceWarning)\n",
      "C:\\Users\\Ethan\\Anaconda3\\lib\\site-packages\\sklearn\\linear_model\\logistic.py:947: ConvergenceWarning: lbfgs failed to converge. Increase the number of iterations.\n",
      "  \"of iterations.\", ConvergenceWarning)\n",
      "C:\\Users\\Ethan\\Anaconda3\\lib\\site-packages\\sklearn\\linear_model\\logistic.py:947: ConvergenceWarning: lbfgs failed to converge. Increase the number of iterations.\n",
      "  \"of iterations.\", ConvergenceWarning)\n",
      "C:\\Users\\Ethan\\Anaconda3\\lib\\site-packages\\sklearn\\linear_model\\logistic.py:947: ConvergenceWarning: lbfgs failed to converge. Increase the number of iterations.\n",
      "  \"of iterations.\", ConvergenceWarning)\n"
     ]
    },
    {
     "name": "stdout",
     "output_type": "stream",
     "text": [
      "              precision    recall  f1-score   support\n",
      "\n",
      "           0       0.92      0.96      0.94      9178\n",
      "           1       0.92      0.86      0.89      5462\n",
      "\n",
      "    accuracy                           0.92     14640\n",
      "   macro avg       0.92      0.91      0.91     14640\n",
      "weighted avg       0.92      0.92      0.92     14640\n",
      "\n"
     ]
    },
    {
     "data": {
      "image/png": "[encoded data removed]",
      "text/plain": [
       "<Figure size 432x288 with 2 Axes>"
      ]
     },
     "metadata": {
      "needs_background": "light"
     },
     "output_type": "display_data"
    }
   ],
   "source": [
    "# test Model 2 on validation dataset\n",
    "\n",
    "model2 = make_pipeline(TfidfVectorizer(), LogisticRegressionCV())\n",
    "\n",
    "model2.fit(x_val, y_val)\n",
    "lreg_labels_val = model2.predict(x_val)\n",
    "\n",
    "# get confusion matrix\n",
    "cm6 = confusion_matrix(y_val,lreg_labels_val) # trained on apple, tested on airline\n",
    "\n",
    "# print pretty heatmap\n",
    "ax6 = sns.heatmap(cm6/np.sum(cm6), annot=True, fmt='.2%',cmap='Reds',xticklabels=['negative','positive'],yticklabels=['negative','positive'])\n",
    "bottom, top = ax4.get_ylim()\n",
    "ax6.set_ylim(bottom + 0.5, top - 0.5)\n",
    "plt.xlabel('true label')\n",
    "plt.ylabel('predicted label')\n",
    "\n",
    "ax6\n",
    "\n",
    "print(classification_report(y_val,lreg_labels_val))"
   ]
  },
  {
   "cell_type": "code",
   "execution_count": 15,
   "metadata": {
    "scrolled": true
   },
   "outputs": [
    {
     "name": "stderr",
     "output_type": "stream",
     "text": [
      "C:\\Users\\Ethan\\Anaconda3\\lib\\site-packages\\sklearn\\model_selection\\_split.py:1978: FutureWarning: The default value of cv will change from 3 to 5 in version 0.22. Specify it explicitly to silence this warning.\n",
      "  warnings.warn(CV_WARNING, FutureWarning)\n",
      "C:\\Users\\Ethan\\Anaconda3\\lib\\site-packages\\sklearn\\linear_model\\logistic.py:947: ConvergenceWarning: lbfgs failed to converge. Increase the number of iterations.\n",
      "  \"of iterations.\", ConvergenceWarning)\n",
      "C:\\Users\\Ethan\\Anaconda3\\lib\\site-packages\\sklearn\\linear_model\\logistic.py:947: ConvergenceWarning: lbfgs failed to converge. Increase the number of iterations.\n",
      "  \"of iterations.\", ConvergenceWarning)\n",
      "C:\\Users\\Ethan\\Anaconda3\\lib\\site-packages\\sklearn\\linear_model\\logistic.py:947: ConvergenceWarning: lbfgs failed to converge. Increase the number of iterations.\n",
      "  \"of iterations.\", ConvergenceWarning)\n",
      "C:\\Users\\Ethan\\Anaconda3\\lib\\site-packages\\sklearn\\linear_model\\logistic.py:947: ConvergenceWarning: lbfgs failed to converge. Increase the number of iterations.\n",
      "  \"of iterations.\", ConvergenceWarning)\n",
      "C:\\Users\\Ethan\\Anaconda3\\lib\\site-packages\\sklearn\\linear_model\\logistic.py:947: ConvergenceWarning: lbfgs failed to converge. Increase the number of iterations.\n",
      "  \"of iterations.\", ConvergenceWarning)\n",
      "C:\\Users\\Ethan\\Anaconda3\\lib\\site-packages\\sklearn\\linear_model\\logistic.py:947: ConvergenceWarning: lbfgs failed to converge. Increase the number of iterations.\n",
      "  \"of iterations.\", ConvergenceWarning)\n",
      "C:\\Users\\Ethan\\Anaconda3\\lib\\site-packages\\sklearn\\linear_model\\logistic.py:947: ConvergenceWarning: lbfgs failed to converge. Increase the number of iterations.\n",
      "  \"of iterations.\", ConvergenceWarning)\n",
      "C:\\Users\\Ethan\\Anaconda3\\lib\\site-packages\\sklearn\\linear_model\\logistic.py:947: ConvergenceWarning: lbfgs failed to converge. Increase the number of iterations.\n",
      "  \"of iterations.\", ConvergenceWarning)\n",
      "C:\\Users\\Ethan\\Anaconda3\\lib\\site-packages\\sklearn\\linear_model\\logistic.py:947: ConvergenceWarning: lbfgs failed to converge. Increase the number of iterations.\n",
      "  \"of iterations.\", ConvergenceWarning)\n",
      "C:\\Users\\Ethan\\Anaconda3\\lib\\site-packages\\sklearn\\linear_model\\logistic.py:947: ConvergenceWarning: lbfgs failed to converge. Increase the number of iterations.\n",
      "  \"of iterations.\", ConvergenceWarning)\n",
      "C:\\Users\\Ethan\\Anaconda3\\lib\\site-packages\\sklearn\\linear_model\\logistic.py:947: ConvergenceWarning: lbfgs failed to converge. Increase the number of iterations.\n",
      "  \"of iterations.\", ConvergenceWarning)\n",
      "C:\\Users\\Ethan\\Anaconda3\\lib\\site-packages\\sklearn\\linear_model\\logistic.py:947: ConvergenceWarning: lbfgs failed to converge. Increase the number of iterations.\n",
      "  \"of iterations.\", ConvergenceWarning)\n"
     ]
    },
    {
     "name": "stdout",
     "output_type": "stream",
     "text": [
      "              precision    recall  f1-score   support\n",
      "\n",
      "           0       0.85      0.91      0.88      1817\n",
      "           1       0.84      0.73      0.78      1111\n",
      "\n",
      "    accuracy                           0.84      2928\n",
      "   macro avg       0.84      0.82      0.83      2928\n",
      "weighted avg       0.84      0.84      0.84      2928\n",
      "\n"
     ]
    },
    {
     "data": {
      "image/png": "[encoded data removed]",
      "text/plain": [
       "<Figure size 432x288 with 2 Axes>"
      ]
     },
     "metadata": {
      "needs_background": "light"
     },
     "output_type": "display_data"
    }
   ],
   "source": [
    "# switch test and validation\n",
    "\n",
    "# logistic regression on airline test data\n",
    "\n",
    "model2.fit(x2_train,y2_train) # trained on airline, tested on airline\n",
    "lreg_labels2 = model2.predict(x2_test)\n",
    "\n",
    "# get confusion matrix\n",
    "cm7 = confusion_matrix(y2_test,lreg_labels2) # trained on apple, tested on airline\n",
    "\n",
    "# print pretty heatmap\n",
    "ax7 = sns.heatmap(cm7/np.sum(cm7), annot=True, fmt='.2%',cmap='Greens',xticklabels=['negative','positive'],yticklabels=['negative','positive'])\n",
    "bottom, top = ax7.get_ylim()\n",
    "ax7.set_ylim(bottom + 0.5, top - 0.5)\n",
    "plt.xlabel('true label')\n",
    "plt.ylabel('predicted label')\n",
    "\n",
    "ax7\n",
    "\n",
    "# get accuracy, precision, recall\n",
    "print(classification_report(y2_test,lreg_labels2))"
   ]
  },
  {
   "cell_type": "code",
   "execution_count": 16,
   "metadata": {},
   "outputs": [
    {
     "name": "stdout",
     "output_type": "stream",
     "text": [
      "              precision    recall  f1-score   support\n",
      "\n",
      "         0.0       0.50      0.74      0.60      1219\n",
      "         1.0       0.84      0.65      0.73      2585\n",
      "\n",
      "    accuracy                           0.68      3804\n",
      "   macro avg       0.67      0.70      0.67      3804\n",
      "weighted avg       0.73      0.68      0.69      3804\n",
      "\n"
     ]
    },
    {
     "data": {
      "image/png": "[encoded data removed]",
      "text/plain": [
       "<Figure size 432x288 with 2 Axes>"
      ]
     },
     "metadata": {
      "needs_background": "light"
     },
     "output_type": "display_data"
    }
   ],
   "source": [
    "\n",
    "# logistic regression on validation data (apple)\n",
    "\n",
    "lreg_labels_val2 = model2.predict(x2_val) # trained on airline, tested on apple\n",
    "\n",
    "# get confusion matrix\n",
    "cm8 = confusion_matrix(y2_val,lreg_labels_val2) # trained on apple, tested on airline\n",
    "\n",
    "# print pretty heatmap\n",
    "ax8 = sns.heatmap(cm8/np.sum(cm8), annot=True, fmt='.2%',cmap='Reds',xticklabels=['negative','positive'],yticklabels=['negative','positive'])\n",
    "bottom, top = ax8.get_ylim()\n",
    "ax8.set_ylim(bottom + 0.5, top - 0.5)\n",
    "plt.xlabel('true label')\n",
    "plt.ylabel('predicted label')\n",
    "\n",
    "ax8\n",
    "\n",
    "# get accuracy, precision, recall\n",
    "print(classification_report(y2_val,lreg_labels_val2))\n"
   ]
  },
  {
   "cell_type": "code",
   "execution_count": null,
   "metadata": {},
   "outputs": [],
   "source": []
  }
 ],
 "metadata": {
  "kernelspec": {
   "display_name": "Python 3",
   "language": "python",
   "name": "python3"
  },
  "language_info": {
   "codemirror_mode": {
    "name": "ipython",
    "version": 3
   },
   "file_extension": ".py",
   "mimetype": "text/x-python",
   "name": "python",
   "nbconvert_exporter": "python",
   "pygments_lexer": "ipython3",
   "version": "3.7.4"
  }
 },
 "nbformat": 4,
 "nbformat_minor": 2
}
